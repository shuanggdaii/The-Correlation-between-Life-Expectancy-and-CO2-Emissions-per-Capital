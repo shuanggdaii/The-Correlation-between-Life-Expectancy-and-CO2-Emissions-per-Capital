{
 "cells": [
  {
   "cell_type": "raw",
   "id": "0ee38e39",
   "metadata": {},
   "source": [
    "Dataset from https://www.kaggle.com/sansuthi/global-co2-emissions"
   ]
  },
  {
   "cell_type": "code",
   "execution_count": 1,
   "id": "2abdb913",
   "metadata": {},
   "outputs": [],
   "source": [
    "from cs103 import *\n",
    "from typing import NamedTuple, List\n",
    "import csv\n",
    "\n",
    "CountryEmission = NamedTuple(\"CountryEmission\",[('name',str),\n",
    "                                                ('co2_emission_per_capita',float),\n",
    "                                                ('life_expectancy',float)])\n",
    "\n",
    "#interp. contry's name, CO2 Emission Per Capita, life expectancy of the Country (2016)\n",
    "Australia = CountryEmission(\"Australia\",17.1,82.959)\n",
    "Austria = CountryEmission(\"Austria\",8.43,81.258)\n",
    "Belgium = CountryEmission(\"Belgium\",8.34,81.139)\n",
    "\n",
    "Canada = CountryEmission(\"Canada\",18.58,82.117)\n",
    "Finland = CountryEmission(\"Finland\",9.31,81.382)\n",
    "France = CountryEmission(\"France\",5.13,82.328)\n",
    "Germany = CountryEmission(\"Germany\",9.44,80.902)\n",
    "Italy = CountryEmission(\"Italy\",5.9,83.008)\n",
    "\n",
    "Japan = CountryEmission(\"Japan\",9.7,84.09)\n",
    "UnitedKingdom = CountryEmission(\"United Kingdom\",5.55,81.111)\n",
    "UnitedStates = CountryEmission(\"United States\",15.52,78.885)\n",
    "\n",
    "@typecheck\n",
    "#template based on compound(3 fields)\n",
    "def fn_for_country_emission(ce: CountryEmission)->...:\n",
    "    return ...,(ce.name,\n",
    "                ce.co2_emission_per_capita,\n",
    "                ce.life_expectancy)\n",
    "\n",
    "# List[CountryEmission]\n",
    "# interp. a list of CountryEmission\n",
    "\n",
    "LOCE0 = []\n",
    "LOCE1 = [Australia,Austria,Belgium,Canada]\n",
    "LOCE2 = [Finland,France,Germany,Italy]\n",
    "LOCE3 = [Japan,UnitedKingdom,UnitedStates]\n",
    "\n",
    "@typecheck\n",
    "#template based on arbitrary-sized, and the reference rule\n",
    "def fn_for_loce(loce: List[CountryEmission]) -> ...:\n",
    "    #description for accumulator\n",
    "    acc = ... #type:...\n",
    "    for ce in loce:\n",
    "        acc = ...,(fn_for_country_emission(ce),acc)\n",
    "    return ...,(acc)"
   ]
  },
  {
   "cell_type": "code",
   "execution_count": 2,
   "id": "a3e7a187",
   "metadata": {},
   "outputs": [],
   "source": [
    "@typecheck\n",
    "def read(filename: str) -> List[CountryEmission]:\n",
    "    \"\"\"    \n",
    "    reads information from the specified file and returns a list of CountryEmission\n",
    "    \"\"\"\n",
    "    #return [] \n",
    "    # Template from HtDAP\n",
    "    # loc contains the result so far\n",
    "    loce = [] # type: List[CountryEmission]\n",
    "\n",
    "    with open(filename) as csvfile:\n",
    "        \n",
    "        reader = csv.reader(csvfile)\n",
    "        next(reader)\n",
    "\n",
    "        for row in reader:\n",
    "            ce = CountryEmission(row[0],parse_float(row[4]),parse_float(row[6]))\n",
    "            loce.append(ce)\n",
    "            \n",
    "    return loce"
   ]
  },
  {
   "cell_type": "code",
   "execution_count": 3,
   "id": "e12a81de",
   "metadata": {},
   "outputs": [
    {
     "name": "stdout",
     "output_type": "stream",
     "text": [
      "\u001b[92m3 of 3 tests passed\u001b[0m\n"
     ]
    }
   ],
   "source": [
    "@typecheck\n",
    "def emission(ce:CountryEmission) -> float:\n",
    "    \"\"\"\n",
    "    enter a CountryEmission, return ce.co2_emission_per_capita\n",
    "    \"\"\"\n",
    "    #return 0.0\n",
    "    #template from CountryEmission\n",
    "    return ce.co2_emission_per_capita\n",
    "\n",
    "start_testing()\n",
    "expect(emission(Australia),17.1)\n",
    "expect(emission(Austria),8.43)\n",
    "expect(emission(Belgium),8.34)\n",
    "summary()"
   ]
  },
  {
   "cell_type": "code",
   "execution_count": 4,
   "id": "5e727fb1",
   "metadata": {},
   "outputs": [
    {
     "name": "stdout",
     "output_type": "stream",
     "text": [
      "\u001b[92m3 of 3 tests passed\u001b[0m\n"
     ]
    }
   ],
   "source": [
    "@typecheck\n",
    "def life_expe(ce:CountryEmission) -> float:\n",
    "    \"\"\"\n",
    "    enter a CountryEmission, return ce.life_expectancy\n",
    "    \"\"\"\n",
    "    #return 0.0\n",
    "    #template from CountryEmission\n",
    "    return ce.life_expectancy\n",
    "\n",
    "start_testing()\n",
    "expect(life_expe(Canada),82.117)\n",
    "expect(life_expe(Finland),81.382)\n",
    "expect(life_expe(France),82.328)\n",
    "summary()"
   ]
  },
  {
   "cell_type": "code",
   "execution_count": 5,
   "id": "d8fa37a1",
   "metadata": {},
   "outputs": [
    {
     "name": "stdout",
     "output_type": "stream",
     "text": [
      "\u001b[92m3 of 3 tests passed\u001b[0m\n"
     ]
    }
   ],
   "source": [
    "@typecheck\n",
    "def list_emission(loce:List[CountryEmission]) -> List[float]:\n",
    "    \"\"\"\n",
    "    enter a list of CountryEmission, return a list of ce.co2_emission_per_capita\n",
    "    \"\"\"\n",
    "    #return []\n",
    "    #template from List[CountryEmission]\n",
    "    #template based on arbitrary-sized, and the reference rule\n",
    "    #acc contains all data about ce.co2_emission_per_capita\n",
    "    acc = [] #type:list\n",
    "    for ce in loce:\n",
    "        acc.append(emission(ce))\n",
    "    return acc\n",
    "\n",
    "start_testing()\n",
    "expect(list_emission(LOCE1),[17.1, 8.43, 8.34, 18.58])\n",
    "expect(list_emission(LOCE2),[9.31, 5.13, 9.44, 5.9])\n",
    "expect(list_emission(LOCE3),[9.7, 5.55, 15.52])\n",
    "summary()"
   ]
  },
  {
   "cell_type": "code",
   "execution_count": 6,
   "id": "71bb32e8",
   "metadata": {},
   "outputs": [
    {
     "name": "stdout",
     "output_type": "stream",
     "text": [
      "\u001b[92m3 of 3 tests passed\u001b[0m\n"
     ]
    }
   ],
   "source": [
    "@typecheck\n",
    "def list_life_expe(loce:List[CountryEmission]) -> List[float]:\n",
    "    \"\"\"\n",
    "    enter a list of CountryEmission, return a list of ce.life_expectancy\n",
    "    \"\"\"\n",
    "    #return []\n",
    "    #template from List[CountryEmission]\n",
    "    #template based on arbitrary-sized, and the reference rule\n",
    "    #acc contains all data about ce.life_expectancy\n",
    "    acc = [] #type:list\n",
    "    for ce in loce:\n",
    "        acc.append(life_expe(ce))\n",
    "    return acc\n",
    "\n",
    "start_testing()\n",
    "expect(list_life_expe(LOCE1),[82.959, 81.258, 81.139, 82.117])\n",
    "expect(list_life_expe(LOCE2),[81.382, 82.328, 80.902, 83.008])\n",
    "expect(list_life_expe(LOCE3),[84.09, 81.111, 78.885])\n",
    "summary()"
   ]
  },
  {
   "cell_type": "code",
   "execution_count": 7,
   "id": "2db14489",
   "metadata": {},
   "outputs": [],
   "source": [
    "import matplotlib.pyplot as plt\n",
    "import numpy as np\n",
    "\n",
    "@typecheck\n",
    "def shaw_scatter_plot(loce:List[CountryEmission]) -> None:\n",
    "    x = np.array(list_life_expe(loce))\n",
    "    y = np.array(list_emission(loce))\n",
    "    \n",
    "    m, b = np.polyfit(x, y, 1)\n",
    "    plt.plot(x, m*x + b, \"#FFB740\", linewidth = '4')\n",
    "    \n",
    "    font1 = {'size':15}\n",
    "    font2 = {'size':12}\n",
    "    \n",
    "    plt.title(\"The Correlation between Life Expectancy and CO2 Emissions per Capital\",fontdict = font1)\n",
    "    plt.xlabel(\"Life Expectancy\",fontdict = font2)\n",
    "    plt.ylabel(\"CO2 Emissions per Capital\",fontdict = font2)\n",
    "\n",
    "    plt.scatter(x, y, color=\"#A2DBFA\")\n",
    "\n",
    "    plt.show()"
   ]
  },
  {
   "cell_type": "code",
   "execution_count": 8,
   "id": "1f0dde29",
   "metadata": {},
   "outputs": [],
   "source": [
    "@typecheck\n",
    "def main(filename: str) ->None:\n",
    "    \"\"\"\n",
    "    Reads the file from given filename, analyzes the data,\n",
    "    returns the result\n",
    "    \"\"\"\n",
    "    # Template from HtDAP, based on composition\n",
    "    return shaw_scatter_plot(read(filename))"
   ]
  },
  {
   "cell_type": "code",
   "execution_count": 9,
   "id": "b2b2b06c",
   "metadata": {},
   "outputs": [
    {
     "data": {
      "image/png": "[encoded data removed]",
      "text/plain": [
       "<Figure size 432x288 with 1 Axes>"
      ]
     },
     "metadata": {
      "needs_background": "light"
     },
     "output_type": "display_data"
    }
   ],
   "source": [
    "main('CO2Emission_LifeExp.csv')"
   ]
  },
  {
   "cell_type": "code",
   "execution_count": 10,
   "id": "3b0f529f",
   "metadata": {},
   "outputs": [
    {
     "data": {
      "image/png": "[encoded data removed]",
      "text/plain": [
       "<Figure size 432x288 with 1 Axes>"
      ]
     },
     "metadata": {
      "needs_background": "light"
     },
     "output_type": "display_data"
    },
    {
     "name": "stdout",
     "output_type": "stream",
     "text": [
      "\u001b[92m10 of 10 tests passed\u001b[0m\n"
     ]
    }
   ],
   "source": [
    "start_testing()\n",
    "\n",
    "# Examples and tests for main\n",
    "expect(main('CO2Emission_LifeExp.csv'),None)\n",
    "\n",
    "# Examples and tests for read\n",
    "expect(read('CO2Emission_LifeExp-test1.csv'),LOCE1)\n",
    "expect(read('CO2Emission_LifeExp-test2.csv'),LOCE2)\n",
    "expect(read('CO2Emission_LifeExp-test3.csv'),LOCE3)\n",
    "\n",
    "# Examples and tests for analyze1\n",
    "expect(list_emission(LOCE1),[17.1, 8.43, 8.34, 18.58])\n",
    "expect(list_emission(LOCE2),[9.31, 5.13, 9.44, 5.9])\n",
    "expect(list_emission(LOCE3),[9.7, 5.55, 15.52])\n",
    "\n",
    "# Examples and tests for analyze2\n",
    "expect(list_life_expe(LOCE1),[82.959, 81.258, 81.139, 82.117])\n",
    "expect(list_life_expe(LOCE2),[81.382, 82.328, 80.902, 83.008])\n",
    "expect(list_life_expe(LOCE3),[84.09, 81.111, 78.885])\n",
    "\n",
    "summary()"
   ]
  }
 ],
 "metadata": {
  "kernelspec": {
   "display_name": "Python 3",
   "language": "python",
   "name": "python3"
  },
  "language_info": {
   "codemirror_mode": {
    "name": "ipython",
    "version": 3
   },
   "file_extension": ".py",
   "mimetype": "text/x-python",
   "name": "python",
   "nbconvert_exporter": "python",
   "pygments_lexer": "ipython3",
   "version": "3.8.8"
  }
 },
 "nbformat": 4,
 "nbformat_minor": 5
}
